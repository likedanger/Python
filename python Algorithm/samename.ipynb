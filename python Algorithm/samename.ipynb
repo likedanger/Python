{
 "cells": [
  {
   "cell_type": "code",
   "execution_count": 2,
   "metadata": {},
   "outputs": [
    {
     "name": "stdout",
     "output_type": "stream",
     "text": [
      "{'Tom'}\n",
      "{'Tom', 'Mike'}\n"
     ]
    }
   ],
   "source": [
    "# 두 번 이상 나온 이름 찾기\n",
    "# 입력 : 이름이 n개 들어 있는 리스트\n",
    "# 출력 : 이름 n개 중 반복되는 이름의 집합\n",
    "\n",
    "def find_same_name(a):\n",
    "    n = len(a) # 리스트의 자료 개수를 n에 저장\n",
    "    result = set() # 결과를 저장할 빈 집합\n",
    "    for i in range(0, n-1): # 0부터 n-2까지 반복\n",
    "        for j in range(i + 1, n): # i+1부터 n-1까지 반복\n",
    "            if a[i] == a[j]: #이름이 같으면\n",
    "                result.add(a[i]) #찾은 이름을 result에 추가\n",
    "    return result\n",
    "\n",
    "name = [\"Tom\", \"Jerry\", \"Mike\", \"Tom\"]\n",
    "print(find_same_name(name))\n",
    "\n",
    "name2 = [\"Tom\", \"Jerry\", \"Mike\", \"Tom\", \"Mike\"]\n",
    "print(find_same_name(name2))"
   ]
  },
  {
   "cell_type": "code",
   "execution_count": 13,
   "metadata": {},
   "outputs": [
    {
     "name": "stdout",
     "output_type": "stream",
     "text": [
      "{'Tom-Mike', 'Jerry-Mike', 'Tom-Jerry'}\n"
     ]
    }
   ],
   "source": [
    "# n명 중 두 명을 뽑아 짝을 짓는다\n",
    "# 입력 : 이름이 n 개 들어 있는 리스트\n",
    "# 출력 : 이름 n개의 짝\n",
    "\n",
    "def find_sum(a):\n",
    "    n = len(a) # 리스트의 자료를 n에 저장\n",
    "    result = set()\n",
    "    for i in range(0, n-1):\n",
    "        for j in range(i+1, n):\n",
    "            if a[i] != a[j]:\n",
    "                result.add(a[i]+'-'+a[j])\n",
    "    return result\n",
    "\n",
    "name = [\"Tom\", \"Jerry\", \"Mike\"]\n",
    "print(find_sum(name))"
   ]
  },
  {
   "cell_type": "code",
   "execution_count": null,
   "metadata": {},
   "outputs": [],
   "source": []
  }
 ],
 "metadata": {
  "kernelspec": {
   "display_name": "Python [conda env:virtual]",
   "language": "python",
   "name": "conda-env-virtual-py"
  },
  "language_info": {
   "codemirror_mode": {
    "name": "ipython",
    "version": 3
   },
   "file_extension": ".py",
   "mimetype": "text/x-python",
   "name": "python",
   "nbconvert_exporter": "python",
   "pygments_lexer": "ipython3",
   "version": "3.6.8"
  }
 },
 "nbformat": 4,
 "nbformat_minor": 2
}
