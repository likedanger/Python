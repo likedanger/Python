{
 "cells": [
  {
   "cell_type": "code",
   "execution_count": 2,
   "metadata": {},
   "outputs": [
    {
     "name": "stdout",
     "output_type": "stream",
     "text": [
      "92\n"
     ]
    }
   ],
   "source": [
    "# 최댓값 구하기\n",
    "# 입력 : 숫자가 n개 들어 있는 리스트\n",
    "# 출력 : 숫자 n개 중 최댓값\n",
    "\n",
    "def find_max(a):\n",
    "    n = len(a) # 입력 크기 n\n",
    "    max_v = a[0] # 리스트의 첫 번째 값을 최댓값으로 기억\n",
    "    for i in range(1, n): # 1부터 첫 번째 값을 최댓값으로 기억\n",
    "        if a[i] > max_v : # 이번 값이 현재까지 기억된 최댓값보다 크면\n",
    "            max_v = a[i] # 최댓값을 변경\n",
    "    return max_v\n",
    "\n",
    "v = [17, 92, 18, 33, 58, 7, 33, 42]\n",
    "print(find_max(v))"
   ]
  },
  {
   "cell_type": "code",
   "execution_count": 4,
   "metadata": {},
   "outputs": [
    {
     "name": "stdout",
     "output_type": "stream",
     "text": [
      "1\n"
     ]
    }
   ],
   "source": [
    "# 최댓값의 위치 구하기\n",
    "# 입력 : 숫자가 n개 들어 있는 리스트\n",
    "# 출력 : 숫자가 n개 중에서 최댓값이 있는 위치(0부터 n-1까지의 값)\n",
    "\n",
    "def find_max_idx(a):\n",
    "    n = len(a) # 입력 크기 n\n",
    "    max_idx = 0 # 리스트 중 0 번 위치를 최댓값 위치로 기억\n",
    "    for i in range(1, n):\n",
    "        if a[i] > a[max_idx]: # 이번 값이 현재까지 기억된 최댓값보다 크면\n",
    "            max_idx = i # 최댓값의 위치를 변경\n",
    "    return max_idx\n",
    "v = [17, 92, 18, 33, 58, 7, 33, 42]\n",
    "print(find_max_idx(v))"
   ]
  },
  {
   "cell_type": "code",
   "execution_count": 6,
   "metadata": {},
   "outputs": [
    {
     "name": "stdout",
     "output_type": "stream",
     "text": [
      "7\n"
     ]
    }
   ],
   "source": [
    "# 최솟값 구하기\n",
    "# 입력 : 숫자가 n개 들어 있는 리스트\n",
    "# 출력 : 숫자 n개 중 최솟값\n",
    "\n",
    "def find_max(a):\n",
    "    n = len(a) # 입력 크기 n\n",
    "    max_v = a[0] # 리스트의 첫 번째 값을 최솟값으로 기억\n",
    "    for i in range(1, n): # 1부터 첫 번째 값을 최솟값으로 기억\n",
    "        if a[i] < max_v : # 이번 값이 현재까지 기억된 최솟값보다 크면\n",
    "            max_v = a[i] # 최솟값을 변경\n",
    "    return max_v\n",
    "\n",
    "v = [17, 92, 18, 33, 58, 7, 33, 42]\n",
    "print(find_max(v))"
   ]
  },
  {
   "cell_type": "code",
   "execution_count": null,
   "metadata": {},
   "outputs": [],
   "source": []
  }
 ],
 "metadata": {
  "kernelspec": {
   "display_name": "Python [conda env:virtual]",
   "language": "python",
   "name": "conda-env-virtual-py"
  },
  "language_info": {
   "codemirror_mode": {
    "name": "ipython",
    "version": 3
   },
   "file_extension": ".py",
   "mimetype": "text/x-python",
   "name": "python",
   "nbconvert_exporter": "python",
   "pygments_lexer": "ipython3",
   "version": "3.6.8"
  }
 },
 "nbformat": 4,
 "nbformat_minor": 2
}
