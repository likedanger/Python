{
 "cells": [
  {
   "cell_type": "code",
   "execution_count": 2,
   "metadata": {},
   "outputs": [
    {
     "name": "stdout",
     "output_type": "stream",
     "text": [
      "1\n",
      "120\n",
      "3628800\n"
     ]
    }
   ],
   "source": [
    "# 연속한 숫자의 곱을 구하는 알고리즘 (for 반복문)\n",
    "# 입력 : n\n",
    "# 출력 : 1부터 n까지 연속한 숫자를 곱한 값\n",
    "\n",
    "def fact(n):\n",
    "    f = 1 # 곱을 계산할 변수, 초깃값은 1\n",
    "    for i in range(1, n + 1): # 1부터 n까지 반복(n+1은 제외\n",
    "        f = f * i # 곱셈 연산으로 수정\n",
    "    return f\n",
    "\n",
    "print(fact(1))\n",
    "print(fact(5))\n",
    "print(fact(10))"
   ]
  },
  {
   "cell_type": "code",
   "execution_count": 3,
   "metadata": {},
   "outputs": [
    {
     "name": "stdout",
     "output_type": "stream",
     "text": [
      "1\n",
      "120\n",
      "3628800\n"
     ]
    }
   ],
   "source": [
    "# 연속한 숫자의 곱을 구하는 알고리즘 (재귀함수)\n",
    "# 입력 : n\n",
    "# 출력 : 1부터 n까지 연속한 숫자를 곱한 값\n",
    "\n",
    "def fact_2(n):\n",
    "    if n <= 1:\n",
    "        return 1\n",
    "    return n * fact_2(n-1)\n",
    "\n",
    "print(fact_2(1))\n",
    "print(fact_2(5))\n",
    "print(fact_2(10))"
   ]
  },
  {
   "cell_type": "code",
   "execution_count": 4,
   "metadata": {},
   "outputs": [
    {
     "name": "stdout",
     "output_type": "stream",
     "text": [
      "1\n",
      "15\n",
      "55\n"
     ]
    }
   ],
   "source": [
    "# 연속한 숫자의 합을 구하는 알고리즘 (재귀함수)\n",
    "# 입력 : n\n",
    "# 출력 : 1부터 n까지 연속한 숫자를 합\n",
    "\n",
    "def fact_2(n):\n",
    "    if n <= 1:\n",
    "        return 1\n",
    "    return n + fact_2(n-1)\n",
    "\n",
    "print(fact_2(1))\n",
    "print(fact_2(5))\n",
    "print(fact_2(10))"
   ]
  },
  {
   "cell_type": "code",
   "execution_count": 8,
   "metadata": {},
   "outputs": [
    {
     "name": "stdout",
     "output_type": "stream",
     "text": [
      "1\n",
      "5\n",
      "10\n"
     ]
    }
   ],
   "source": [
    "# 연속한 숫자의 최댓값 찾기 (재귀함수)\n",
    "# 입력 : n\n",
    "# 출력 : 1부터 n까지 최댓값을 찾기\n",
    "\n",
    "def find_fact(n):\n",
    "    if n <= n+1:\n",
    "        return n\n",
    "\n",
    "print(find_fact(1))\n",
    "print(find_fact(5))\n",
    "print(find_fact(10))"
   ]
  },
  {
   "cell_type": "code",
   "execution_count": 17,
   "metadata": {},
   "outputs": [
    {
     "name": "stdout",
     "output_type": "stream",
     "text": [
      "55\n"
     ]
    }
   ],
   "source": [
    "# 피보나치 수열 구현하기\n",
    "# 입력 : n\n",
    "# 출력 : n-2 + n-1 의 값\n",
    "\n",
    "def fibo(n):\n",
    "    if n < 2:\n",
    "        return n\n",
    "    return fibo(n-1) + fibo(n-2)\n",
    "        \n",
    "print(fibo(10))"
   ]
  },
  {
   "cell_type": "code",
   "execution_count": null,
   "metadata": {},
   "outputs": [],
   "source": []
  }
 ],
 "metadata": {
  "kernelspec": {
   "display_name": "Python [conda env:virtual]",
   "language": "python",
   "name": "conda-env-virtual-py"
  },
  "language_info": {
   "codemirror_mode": {
    "name": "ipython",
    "version": 3
   },
   "file_extension": ".py",
   "mimetype": "text/x-python",
   "name": "python",
   "nbconvert_exporter": "python",
   "pygments_lexer": "ipython3",
   "version": "3.6.8"
  }
 },
 "nbformat": 4,
 "nbformat_minor": 2
}
